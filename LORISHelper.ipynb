{
 "cells": [
  {
   "cell_type": "markdown",
   "metadata": {},
   "source": [
    "# UKBiobank metadata extractor"
   ]
  },
  {
   "cell_type": "code",
   "execution_count": 11,
   "metadata": {},
   "outputs": [
    {
     "name": "stdout",
     "output_type": "stream",
     "text": [
      "{'subproject_id': '2', 'visit_labels': ['init', 'rep1', 'img']}\n"
     ]
    }
   ],
   "source": [
    "import os\n",
    "import json\n",
    "\n",
    "from lib.LORISIntrument import LORISIntrument\n",
    "from lib.LORISField import LORISField\n",
    "\n",
    "from lib.UKBiobankSchemas import UKBiobankSchemas\n",
    "\n",
    "'''\n",
    "  This helps translate the UKBiobank metadata into LORIS terms\n",
    "'''\n",
    "class LORISHelper:\n",
    "    def __init__(self, schema):\n",
    "        self.__schema = schema\n",
    "        \n",
    "    def generate_LINST_files(self, path = './instruments'):\n",
    "        for obj in self.__schema.categories_with_fields:\n",
    "            category = obj.get('category')\n",
    "            fields = obj.get('fields')\n",
    "            instrument = LORISIntrument(category, fields).as_LINST()\n",
    "            if instrument is not None:\n",
    "                filename = instrument[0].split('{@}')[1].strip() + '.linst'\n",
    "                file = open(os.path.join('instruments', filename), 'w')\n",
    "                for row in instrument:\n",
    "                    file.write(row)\n",
    "        \n",
    "    def print_tests_batteries(self):\n",
    "        insert_statement = 'INSERT INTO test_battery (Test_name, AgeMinDays, AgeMaxDays, Stage, SubprojectID, Visit_label) VALUES '\n",
    "        values = []\n",
    "        for obj in self.__schema.categories_with_fields:\n",
    "            category = obj.get('category')\n",
    "            fields = obj.get('fields')\n",
    "            instrument = LORISIntrument(category, fields)\n",
    "            table_name = instrument.table_name\n",
    "            \n",
    "            visits_set = set()\n",
    "            for visits in instrument.instances:\n",
    "                for v in visits:\n",
    "                    visits_set.add(v)\n",
    "            \n",
    "            for visit_label in visits_set:\n",
    "                values.append('({}, 0, 2147483647, \"Visit\", NULL, {})'.format(table_name, visit_label))\n",
    "        \n",
    "            if values:\n",
    "                print(insert_statement)\n",
    "                print(',\\n'.join(values))\n",
    "                print(';')\n",
    "     \n",
    "    def print_field_instances(self, field_id = ''):\n",
    "        assert len(field_id), __class__.__name__ + ': field_id is required'\n",
    "        try:\n",
    "            raw_field = self.__schema.get_field(field_id)\n",
    "        except KeyError:\n",
    "            return 'KeyError: field not found'\n",
    "        \n",
    "        response = {\n",
    "            \"subproject_id\": raw_field.get('instance_id'),\n",
    "            \"visit_labels\": raw_field.get('instances')\n",
    "        }\n",
    "        print(str(response))\n",
    "        \n",
    "            \n",
    "s = LORISHelper(UKBiobankSchemas(cachedir = os.path.join(os.getcwd(), '.cache')))\n",
    "#s.generate_LINST_files()\n",
    "#s.print_tests_batteries()            \n",
    "s.print_field_instances('3')            "
   ]
  },
  {
   "cell_type": "code",
   "execution_count": null,
   "metadata": {},
   "outputs": [],
   "source": []
  }
 ],
 "metadata": {
  "kernelspec": {
   "display_name": "Python 3",
   "language": "python",
   "name": "python3"
  },
  "language_info": {
   "codemirror_mode": {
    "name": "ipython",
    "version": 3
   },
   "file_extension": ".py",
   "mimetype": "text/x-python",
   "name": "python",
   "nbconvert_exporter": "python",
   "pygments_lexer": "ipython3",
   "version": "3.7.4"
  }
 },
 "nbformat": 4,
 "nbformat_minor": 2
}
