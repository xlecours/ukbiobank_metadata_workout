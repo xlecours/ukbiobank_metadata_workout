{
 "cells": [
  {
   "cell_type": "code",
   "execution_count": 56,
   "metadata": {},
   "outputs": [],
   "source": [
    "import requests\n",
    "import os\n",
    "import csv\n",
    "\n",
    "class UKBiobankHelper:\n",
    "    def __init__(self, cachedir=None):\n",
    "        if cachedir is None:\n",
    "            cachedir = os.path.join(os.getcwd(), '.cache')\n",
    "            \n",
    "        if not os.path.exists(cachedir):\n",
    "            os.mkdir(cachedir, 0o744)\n",
    "            \n",
    "        self.cachedir = cachedir\n",
    "        \n",
    "        schemadir = os.path.join(cachedir, 'schemas')\n",
    "        if not os.path.exists(schemadir):\n",
    "            os.mkdir( schemadir, 0o744 )\n",
    "            \n",
    "        self.schemadir = schemadir\n",
    "        \n",
    "    def updateSchemaDoc(self):\n",
    "        schemafilename = os.path.join(self.schemadir, '999-schema.txt')\n",
    "        \n",
    "        if not os.path.exists(schemafilename):\n",
    "            self.getRemoteSchemaDoc(999)\n",
    "        \n",
    "        filenames = []\n",
    "        with open(schemafilename, 'r') as f:\n",
    "            reader = csv.DictReader(f, delimiter=\"\\t\")\n",
    "            headers = reader.fieldnames\n",
    "            for row in reader:\n",
    "                basename = row['schema_id'] + '-' + row['name'] + '.txt'\n",
    "                filename = os.path.join(self.schemadir, basename)\n",
    "                if not os.path.exists(filename):\n",
    "                    self.getRemoteSchemaDoc(row['schema_id'])\n",
    "\n",
    "    def getRemoteSchemaDoc(self, num):\n",
    "        id = str(num)\n",
    "        response1 = requests.get(\"http://biobank.ctsu.ox.ac.uk/showcase/scdown.cgi?fmt=txt&id=\" + id)\n",
    "        if not response1.ok:\n",
    "            raise str(response) + ' // ' + str(response.headers)\n",
    "\n",
    "        basename = id + '-' + response1.headers.get('Content-Disposition').split('=')[1]\n",
    "        filename = os.path.join(self.schemadir, basename)\n",
    "        with open(filename, 'wb') as f:\n",
    "            f.write(response1.content)\n",
    "        "
   ]
  },
  {
   "cell_type": "code",
   "execution_count": 57,
   "metadata": {},
   "outputs": [],
   "source": [
    "helper = UKBiobankHelper()\n",
    "helper.updateSchemaDoc()"
   ]
  },
  {
   "cell_type": "markdown",
   "metadata": {},
   "source": [
    "# TODO \n",
    " - make a .cache directory to put files from biobank.ctsu.ox.ac.uk"
   ]
  },
  {
   "cell_type": "code",
   "execution_count": null,
   "metadata": {},
   "outputs": [],
   "source": []
  }
 ],
 "metadata": {
  "kernelspec": {
   "display_name": "Python 3",
   "language": "python",
   "name": "python3"
  },
  "language_info": {
   "codemirror_mode": {
    "name": "ipython",
    "version": 3
   },
   "file_extension": ".py",
   "mimetype": "text/x-python",
   "name": "python",
   "nbconvert_exporter": "python",
   "pygments_lexer": "ipython3",
   "version": "3.7.4"
  }
 },
 "nbformat": 4,
 "nbformat_minor": 2
}
